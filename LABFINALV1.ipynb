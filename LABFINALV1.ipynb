{
 "cells": [
  {
   "cell_type": "markdown",
   "metadata": {},
   "source": [
    "## IMPORTANDO LIBRERÍAS"
   ]
  },
  {
   "cell_type": "code",
   "execution_count": 4,
   "metadata": {},
   "outputs": [],
   "source": [
    "from __future__ import print_function, division    # Lograr similaridad entre python 2 y 3.\n",
    "# Los plots aparecen en el notebook por defecto\n",
    "%matplotlib inline                       \n",
    "import matplotlib.pyplot as plt\n",
    "import math \n",
    "import numpy as np\n",
    "import matplotlib.pyplot as plt"
   ]
  },
  {
   "cell_type": "markdown",
   "metadata": {},
   "source": [
    "### 1er ejercicio Practico\n",
    "\n",
    "Genere un de tren de impulsos, la cual reciba:\n",
    "\n",
    "* La magnitud de los n impulsos como numpy array o list.\n",
    "* Los tiempos en donde ocurren dichos impulsos en segundos como array o list.\n",
    "* La duración de toda la señal.\n",
    "* El diferencial de tiempo $dt$. (esto es diferente al número de pasos discreto en el tiempo ```nT```)."
   ]
  },
  {
   "cell_type": "code",
   "execution_count": null,
   "metadata": {},
   "outputs": [],
   "source": []
  },
  {
   "cell_type": "markdown",
   "metadata": {},
   "source": [
    "### FUERZA PERSONALIZADA"
   ]
  },
  {
   "cell_type": "code",
   "execution_count": 10,
   "metadata": {},
   "outputs": [
    {
     "data": {
      "text/plain": [
       "[<matplotlib.lines.Line2D at 0x11e771518>]"
      ]
     },
     "execution_count": 10,
     "metadata": {},
     "output_type": "execute_result"
    },
    {
     "data": {
      "image/png": "[encoded data removed]",
      "text/plain": [
       "<Figure size 432x288 with 1 Axes>"
      ]
     },
     "metadata": {
      "needs_background": "light"
     },
     "output_type": "display_data"
    }
   ],
   "source": [
    "T = 2  \n",
    "dt = 0.001 \n",
    "nT = int((T/dt)+1) # Número de pasos de tiempo\n",
    "'Vector de fuerza personalizada'\n",
    "t = np.linspace(0,T,nT) # Vector de tiempo, va de 0 a T en pasos de T/nT\n",
    "f = 6 + np.sin(9*t) + 5*np.cos(t) #Fuerza personalizada\n",
    "\n",
    "'Imprimiendo cosas'\n",
    "\n",
    "#print('nT es'+ ' = ' + str(nT))\n",
    "#print('')\n",
    "#print('los pasos son de'+ '\" \"' + str(T/nT))\n",
    "#print('')\n",
    "#print('El vector de tiempo es'+ ' = ' + str(t))\n",
    "#print('')\n",
    "#print('El vector de fuerza es'+ ' = ' + str(f))\n",
    "plt.plot(f)"
   ]
  },
  {
   "cell_type": "markdown",
   "metadata": {},
   "source": [
    "### Condiciones iniciales del sistema\n",
    "La siguiente celda permite dar valores iniciales de desplazamiento y de velocidad al movimiento. Si estos valores se dejan en 0, y además no existe ningún forzamiento externo actuando sobre el sistema, entonces el sistema debería quedarse en reposo permanentemente. Las condiciones iniciales se asignan a las primeras casillas de los vectores ```x``` y ```v``` respectivamente. Un segundo valor para el vector ```x``` es calculado a partir de la velocidad inicial, ya que conociendo esta velocidad y el intervalo de tiempo ```dt``` es posible calcular el valor de la posición en el siguiente punto.\n",
    "###### ```XIni = Desplazamiento inicial (m)``` \n",
    "###### ```VIni = Velocidad inicial (m/s)``` "
   ]
  },
  {
   "cell_type": "code",
   "execution_count": 13,
   "metadata": {},
   "outputs": [],
   "source": [
    "x = np.zeros((nT))\n",
    "v = np.zeros((nT))\n",
    "\n",
    "XIni = 0.1 #Desplazamiento inicial(m)\n",
    "VIni = 0.1 #Velocidad inicial(m/s)\n",
    "\n",
    "x[0]= XIni #Asignando esas condiciones iniciales de desplazamiento al vector de x.\n",
    "x[1]= XIni+(VIni*dt) #Segundo vector de desplazamiento calculado a partir de la velovidad inicial\n",
    "\n",
    "#Conociendo x[1] y el intervalo de tiempo dt es posible calcular el valor de la posición en el siguiente punto\n",
    "\n",
    "v[0]= VIni #Asignando esas condiciones iniciales de velocidad al vector de v."
   ]
  },
  {
   "cell_type": "markdown",
   "metadata": {},
   "source": [
    "## Diferencias finitas para solución de ecuaciones diferenciales"
   ]
  },
  {
   "cell_type": "code",
   "execution_count": null,
   "metadata": {},
   "outputs": [],
   "source": []
  }
 ],
 "metadata": {
  "kernelspec": {
   "display_name": "Python 3",
   "language": "python",
   "name": "python3"
  },
  "language_info": {
   "codemirror_mode": {
    "name": "ipython",
    "version": 3
   },
   "file_extension": ".py",
   "mimetype": "text/x-python",
   "name": "python",
   "nbconvert_exporter": "python",
   "pygments_lexer": "ipython3",
   "version": "3.7.3"
  }
 },
 "nbformat": 4,
 "nbformat_minor": 2
}
